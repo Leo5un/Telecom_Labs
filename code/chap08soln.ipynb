{
 "cells": [
  {
   "cell_type": "markdown",
   "metadata": {},
   "source": [
    "## ThinkDSP\n",
    "\n",
    "This notebook contains solutions to exercises in Chapter 8: Filtering and Convolution\n",
    "\n",
    "Copyright 2015 Allen Downey\n",
    "\n",
    "License: [Creative Commons Attribution 4.0 International](http://creativecommons.org/licenses/by/4.0/)"
   ]
  },
  {
   "cell_type": "code",
   "execution_count": 14,
   "metadata": {
    "collapsed": false,
    "jupyter": {
     "outputs_hidden": false
    }
   },
   "outputs": [],
   "source": [
    "# Get thinkdsp.py\n",
    "\n",
    "import os\n",
    "\n",
    "if not os.path.exists('thinkdsp.py'):\n",
    "    !wget https://github.com/AllenDowney/ThinkDSP/raw/master/code/thinkdsp.py"
   ]
  },
  {
   "cell_type": "code",
   "execution_count": 15,
   "metadata": {},
   "outputs": [],
   "source": [
    "import numpy as np\n",
    "import matplotlib.pyplot as plt\n",
    "\n",
    "from thinkdsp import decorate"
   ]
  },
  {
   "cell_type": "code",
   "execution_count": null,
   "metadata": {},
   "outputs": [],
   "source": []
  },
  {
   "cell_type": "markdown",
   "metadata": {},
   "source": [
    "## Exercise 1\n",
    "\n",
    "In this chapter I claimed that the Fourier transform of a Gaussian\n",
    "curve is also a Gaussian curve.  For discrete Fourier transforms,\n",
    "this relationship is approximately true.\n",
    "\n",
    "Try it out for a few examples.  What happens to the Fourier transform\n",
    "as you vary `std`?"
   ]
  },
  {
   "cell_type": "markdown",
   "metadata": {},
   "source": [
    "### Solution\n",
    "\n",
    "I'll start with a Gaussian similar to the example in the book."
   ]
  },
  {
   "cell_type": "code",
   "execution_count": 25,
   "metadata": {
    "collapsed": false,
    "jupyter": {
     "outputs_hidden": false
    }
   },
   "outputs": [
    {
     "ename": "AttributeError",
     "evalue": "module 'scipy.signal' has no attribute 'gaussian'",
     "output_type": "error",
     "traceback": [
      "\u001b[31m---------------------------------------------------------------------------\u001b[39m",
      "\u001b[31mAttributeError\u001b[39m                            Traceback (most recent call last)",
      "\u001b[36mCell\u001b[39m\u001b[36m \u001b[39m\u001b[32mIn[25]\u001b[39m\u001b[32m, line 3\u001b[39m\n\u001b[32m      1\u001b[39m \u001b[38;5;28;01mimport\u001b[39;00m\u001b[38;5;250m \u001b[39m\u001b[34;01mscipy\u001b[39;00m\u001b[34;01m.\u001b[39;00m\u001b[34;01msignal\u001b[39;00m\n\u001b[32m----> \u001b[39m\u001b[32m3\u001b[39m gaussian = \u001b[43mscipy\u001b[49m\u001b[43m.\u001b[49m\u001b[43msignal\u001b[49m\u001b[43m.\u001b[49m\u001b[43mgaussian\u001b[49m(M=\u001b[32m32\u001b[39m, std=\u001b[32m2\u001b[39m)\n\u001b[32m      4\u001b[39m gaussian /= \u001b[38;5;28msum\u001b[39m(gaussian)\n\u001b[32m      5\u001b[39m plt.plot(gaussian)\n",
      "\u001b[31mAttributeError\u001b[39m: module 'scipy.signal' has no attribute 'gaussian'"
     ]
    }
   ],
   "source": [
    "import scipy.signal\n",
    "\n",
    "gaussian = scipy.signal.gaussian(M=32, std=2)\n",
    "gaussian /= sum(gaussian)\n",
    "plt.plot(gaussian)\n",
    "decorate(xlabel='Index')"
   ]
  },
  {
   "cell_type": "markdown",
   "metadata": {},
   "source": [
    "Here's what the FFT looks like:"
   ]
  },
  {
   "cell_type": "code",
   "execution_count": 24,
   "metadata": {
    "collapsed": false,
    "jupyter": {
     "outputs_hidden": false
    }
   },
   "outputs": [
    {
     "ename": "NameError",
     "evalue": "name 'gaussian' is not defined",
     "output_type": "error",
     "traceback": [
      "\u001b[31m---------------------------------------------------------------------------\u001b[39m",
      "\u001b[31mNameError\u001b[39m                                 Traceback (most recent call last)",
      "\u001b[36mCell\u001b[39m\u001b[36m \u001b[39m\u001b[32mIn[24]\u001b[39m\u001b[32m, line 1\u001b[39m\n\u001b[32m----> \u001b[39m\u001b[32m1\u001b[39m fft_gaussian = np.fft.fft(\u001b[43mgaussian\u001b[49m)\n\u001b[32m      2\u001b[39m plt.plot(\u001b[38;5;28mabs\u001b[39m(fft_gaussian))\n\u001b[32m      3\u001b[39m decorate(xlabel=\u001b[33m'\u001b[39m\u001b[33mFrequency (Hz)\u001b[39m\u001b[33m'\u001b[39m, ylabel=\u001b[33m'\u001b[39m\u001b[33mAmplitude\u001b[39m\u001b[33m'\u001b[39m)\n",
      "\u001b[31mNameError\u001b[39m: name 'gaussian' is not defined"
     ]
    }
   ],
   "source": [
    "fft_gaussian = np.fft.fft(gaussian)\n",
    "plt.plot(abs(fft_gaussian))\n",
    "decorate(xlabel='Frequency (Hz)', ylabel='Amplitude')"
   ]
  },
  {
   "cell_type": "markdown",
   "metadata": {},
   "source": [
    "If we roll the negative frequencies around to the left, we can see more clearly that it is Gaussian, at least approximately."
   ]
  },
  {
   "cell_type": "code",
   "execution_count": 23,
   "metadata": {
    "collapsed": false,
    "jupyter": {
     "outputs_hidden": false
    }
   },
   "outputs": [
    {
     "ename": "NameError",
     "evalue": "name 'gaussian' is not defined",
     "output_type": "error",
     "traceback": [
      "\u001b[31m---------------------------------------------------------------------------\u001b[39m",
      "\u001b[31mNameError\u001b[39m                                 Traceback (most recent call last)",
      "\u001b[36mCell\u001b[39m\u001b[36m \u001b[39m\u001b[32mIn[23]\u001b[39m\u001b[32m, line 1\u001b[39m\n\u001b[32m----> \u001b[39m\u001b[32m1\u001b[39m N = \u001b[38;5;28mlen\u001b[39m(\u001b[43mgaussian\u001b[49m)\n\u001b[32m      2\u001b[39m fft_rolled = np.roll(fft_gaussian, N//\u001b[32m2\u001b[39m)\n\u001b[32m      3\u001b[39m plt.plot(\u001b[38;5;28mabs\u001b[39m(fft_rolled))\n",
      "\u001b[31mNameError\u001b[39m: name 'gaussian' is not defined"
     ]
    }
   ],
   "source": [
    "N = len(gaussian)\n",
    "fft_rolled = np.roll(fft_gaussian, N//2)\n",
    "plt.plot(abs(fft_rolled))\n",
    "decorate(xlabel='Frequency (Hz)', ylabel='Amplitude')"
   ]
  },
  {
   "cell_type": "markdown",
   "metadata": {},
   "source": [
    "This function plots the Gaussian window and its FFT side-by-side."
   ]
  },
  {
   "cell_type": "code",
   "execution_count": 22,
   "metadata": {
    "collapsed": false,
    "jupyter": {
     "outputs_hidden": false
    }
   },
   "outputs": [
    {
     "ename": "AttributeError",
     "evalue": "module 'scipy.signal' has no attribute 'gaussian'",
     "output_type": "error",
     "traceback": [
      "\u001b[31m---------------------------------------------------------------------------\u001b[39m",
      "\u001b[31mAttributeError\u001b[39m                            Traceback (most recent call last)",
      "\u001b[36mCell\u001b[39m\u001b[36m \u001b[39m\u001b[32mIn[22]\u001b[39m\u001b[32m, line 18\u001b[39m\n\u001b[32m     15\u001b[39m     decorate(xlabel=\u001b[33m'\u001b[39m\u001b[33mFrequency\u001b[39m\u001b[33m'\u001b[39m)\n\u001b[32m     16\u001b[39m     plt.show()\n\u001b[32m---> \u001b[39m\u001b[32m18\u001b[39m \u001b[43mplot_gaussian\u001b[49m\u001b[43m(\u001b[49m\u001b[32;43m2\u001b[39;49m\u001b[43m)\u001b[49m\n",
      "\u001b[36mCell\u001b[39m\u001b[36m \u001b[39m\u001b[32mIn[22]\u001b[39m\u001b[32m, line 3\u001b[39m, in \u001b[36mplot_gaussian\u001b[39m\u001b[34m(std)\u001b[39m\n\u001b[32m      1\u001b[39m \u001b[38;5;28;01mdef\u001b[39;00m\u001b[38;5;250m \u001b[39m\u001b[34mplot_gaussian\u001b[39m(std):\n\u001b[32m      2\u001b[39m     M = \u001b[32m32\u001b[39m\n\u001b[32m----> \u001b[39m\u001b[32m3\u001b[39m     gaussian = \u001b[43mscipy\u001b[49m\u001b[43m.\u001b[49m\u001b[43msignal\u001b[49m\u001b[43m.\u001b[49m\u001b[43mgaussian\u001b[49m(M=M, std=std)\n\u001b[32m      4\u001b[39m     gaussian /= \u001b[38;5;28msum\u001b[39m(gaussian)\n\u001b[32m      6\u001b[39m     plt.subplot(\u001b[32m1\u001b[39m, \u001b[32m2\u001b[39m, \u001b[32m1\u001b[39m)\n",
      "\u001b[31mAttributeError\u001b[39m: module 'scipy.signal' has no attribute 'gaussian'"
     ]
    }
   ],
   "source": [
    "def plot_gaussian(std):\n",
    "    M = 32\n",
    "    gaussian = scipy.signal.gaussian(M=M, std=std)\n",
    "    gaussian /= sum(gaussian)\n",
    "    \n",
    "    plt.subplot(1, 2, 1)\n",
    "    plt.plot(gaussian)\n",
    "    decorate(xlabel='Time')\n",
    "\n",
    "    fft_gaussian = np.fft.fft(gaussian)\n",
    "    fft_rolled = np.roll(fft_gaussian, M//2)\n",
    "    \n",
    "    plt.subplot(1, 2, 2)\n",
    "    plt.plot(np.abs(fft_rolled))\n",
    "    decorate(xlabel='Frequency')\n",
    "    plt.show()\n",
    "\n",
    "plot_gaussian(2)"
   ]
  },
  {
   "cell_type": "markdown",
   "metadata": {},
   "source": [
    "Now we can make an interaction that shows what happens as `std` varies."
   ]
  },
  {
   "cell_type": "code",
   "execution_count": null,
   "metadata": {
    "collapsed": false,
    "jupyter": {
     "outputs_hidden": false
    }
   },
   "outputs": [
    {
     "data": {
      "application/vnd.jupyter.widget-view+json": {
       "model_id": "a4edd57dec8b4cf4bf7d11cddc3c00dc",
       "version_major": 2,
       "version_minor": 0
      },
      "text/plain": [
       "interactive(children=(FloatSlider(value=2.0, description='std', max=10.0, min=0.1), Output()), _dom_classes=('…"
      ]
     },
     "metadata": {},
     "output_type": "display_data"
    }
   ],
   "source": [
    "from ipywidgets import interact, interactive, fixed\n",
    "import ipywidgets as widgets\n",
    "\n",
    "slider = widgets.FloatSlider(min=0.1, max=10, value=2)\n",
    "interact(plot_gaussian, std=slider);"
   ]
  },
  {
   "cell_type": "markdown",
   "metadata": {},
   "source": [
    "As `std` increases, the Gaussian gets wider and its FFT gets narrower.\n",
    "\n",
    "In terms of continuous mathematics, if\n",
    "\n",
    "$f(x) = e^{-a x^2}$\n",
    "\n",
    "which is a Gaussian with mean 0 and standard deviation $1/a$, its Fourier transform is\n",
    "\n",
    "$F(k) = \\sqrt{\\frac{\\pi}{a}} e^{-\\pi^2 k^2/a}$\n",
    "\n",
    "which is a Gaussian with standard deviation $a / \\pi^2$.  So there is an inverse relationship between the standard deviations of $f$ and $F$.\n",
    "\n",
    "For the proof, see http://mathworld.wolfram.com/FourierTransformGaussian.html"
   ]
  },
  {
   "cell_type": "markdown",
   "metadata": {},
   "source": [
    "## Exercise 2\n",
    "\n",
    "If you did the exercises in Chapter 3, you saw the effect of the Hamming window, and some of the other windows provided by NumPy, on spectral leakage.  We can get some insight into the effect of these windows by looking at their DFTs.\n",
    "\n",
    "In addition to the Gaussian window we used in this window, create a Hamming window with the same size.  Zero pad the windows and plot their DFTs.  Which window acts as a better low-pass filter?  You might find it useful to plot the DFTs on a log-$y$ scale.\n",
    "\n",
    "Experiment with a few different windows and a few different sizes."
   ]
  },
  {
   "cell_type": "markdown",
   "metadata": {},
   "source": [
    "### Solution\n",
    "\n",
    "Following the examples from the chapter, I'll create a 1-second wave sampled at 44.1 kHz."
   ]
  },
  {
   "cell_type": "code",
   "execution_count": 19,
   "metadata": {
    "collapsed": false,
    "jupyter": {
     "outputs_hidden": false
    }
   },
   "outputs": [],
   "source": [
    "from thinkdsp import SquareSignal\n",
    "\n",
    "signal = SquareSignal(freq=440)\n",
    "wave = signal.make_wave(duration=1.0, framerate=44100)"
   ]
  },
  {
   "cell_type": "markdown",
   "metadata": {},
   "source": [
    "And I'll create a few windows.  I chose the standard deviation of the Gaussian window to make it similar to the others."
   ]
  },
  {
   "cell_type": "code",
   "execution_count": 20,
   "metadata": {
    "collapsed": false,
    "jupyter": {
     "outputs_hidden": false
    }
   },
   "outputs": [
    {
     "ename": "AttributeError",
     "evalue": "module 'scipy.signal' has no attribute 'gaussian'",
     "output_type": "error",
     "traceback": [
      "\u001b[31m---------------------------------------------------------------------------\u001b[39m",
      "\u001b[31mAttributeError\u001b[39m                            Traceback (most recent call last)",
      "\u001b[36mCell\u001b[39m\u001b[36m \u001b[39m\u001b[32mIn[20]\u001b[39m\u001b[32m, line 4\u001b[39m\n\u001b[32m      1\u001b[39m M = \u001b[32m15\u001b[39m\n\u001b[32m      2\u001b[39m std = \u001b[32m2.5\u001b[39m\n\u001b[32m----> \u001b[39m\u001b[32m4\u001b[39m gaussian = \u001b[43mscipy\u001b[49m\u001b[43m.\u001b[49m\u001b[43msignal\u001b[49m\u001b[43m.\u001b[49m\u001b[43mgaussian\u001b[49m(M=M, std=std)   \n\u001b[32m      5\u001b[39m bartlett = np.bartlett(M)\n\u001b[32m      6\u001b[39m blackman = np.blackman(M)\n",
      "\u001b[31mAttributeError\u001b[39m: module 'scipy.signal' has no attribute 'gaussian'"
     ]
    }
   ],
   "source": [
    "M = 15\n",
    "std = 2.5\n",
    "\n",
    "gaussian = scipy.signal.gaussian(M=M, std=std)   \n",
    "bartlett = np.bartlett(M)\n",
    "blackman = np.blackman(M)\n",
    "hamming = np.hamming(M)\n",
    "hanning = np.hanning(M)\n",
    "\n",
    "windows = [blackman, gaussian, hanning, hamming]\n",
    "names = ['blackman', 'gaussian', 'hanning', 'hamming']\n",
    "\n",
    "for window in windows:\n",
    "    window /= sum(window)"
   ]
  },
  {
   "cell_type": "markdown",
   "metadata": {},
   "source": [
    "Let's see what the windows look like."
   ]
  },
  {
   "cell_type": "code",
   "execution_count": 17,
   "metadata": {
    "collapsed": false,
    "jupyter": {
     "outputs_hidden": false
    }
   },
   "outputs": [
    {
     "ename": "NameError",
     "evalue": "name 'windows' is not defined",
     "output_type": "error",
     "traceback": [
      "\u001b[31m---------------------------------------------------------------------------\u001b[39m",
      "\u001b[31mNameError\u001b[39m                                 Traceback (most recent call last)",
      "\u001b[36mCell\u001b[39m\u001b[36m \u001b[39m\u001b[32mIn[17]\u001b[39m\u001b[32m, line 1\u001b[39m\n\u001b[32m----> \u001b[39m\u001b[32m1\u001b[39m \u001b[38;5;28;01mfor\u001b[39;00m window, name \u001b[38;5;129;01min\u001b[39;00m \u001b[38;5;28mzip\u001b[39m(\u001b[43mwindows\u001b[49m, names):\n\u001b[32m      2\u001b[39m     plt.plot(window, label=name)\n\u001b[32m      4\u001b[39m decorate(xlabel=\u001b[33m'\u001b[39m\u001b[33mIndex\u001b[39m\u001b[33m'\u001b[39m)\n",
      "\u001b[31mNameError\u001b[39m: name 'windows' is not defined"
     ]
    }
   ],
   "source": [
    "for window, name in zip(windows, names):\n",
    "    plt.plot(window, label=name)\n",
    "\n",
    "decorate(xlabel='Index')"
   ]
  },
  {
   "cell_type": "markdown",
   "metadata": {},
   "source": [
    "They are pretty similar.  Let's see what their DFTs look like:"
   ]
  },
  {
   "cell_type": "code",
   "execution_count": 11,
   "metadata": {},
   "outputs": [],
   "source": [
    "def zero_pad(array, n):\n",
    "    \"\"\"Extends an array with zeros.\n",
    "\n",
    "    array: NumPy array\n",
    "    n: length of result\n",
    "\n",
    "    returns: new NumPy array\n",
    "    \"\"\"\n",
    "    res = np.zeros(n)\n",
    "    res[:len(array)] = array\n",
    "    return res"
   ]
  },
  {
   "cell_type": "code",
   "execution_count": 12,
   "metadata": {
    "collapsed": false,
    "jupyter": {
     "outputs_hidden": false
    }
   },
   "outputs": [],
   "source": [
    "def plot_window_dfts(windows, names):\n",
    "    \"\"\"\n",
    "    \"\"\"\n",
    "    for window, name in zip(windows, names):\n",
    "        padded =  zero_pad(window, len(wave))\n",
    "        dft_window = np.fft.rfft(padded)\n",
    "        plt.plot(abs(dft_window), label=name)"
   ]
  },
  {
   "cell_type": "markdown",
   "metadata": {},
   "source": [
    "Also pretty similar, but it looks like Hamming drops off the fastest, Blackman the slowest, and Hanning has the most visible sidelobes."
   ]
  },
  {
   "cell_type": "code",
   "execution_count": 13,
   "metadata": {
    "collapsed": false,
    "jupyter": {
     "outputs_hidden": false
    }
   },
   "outputs": [
    {
     "data": {
      "image/png": "[encoded data removed]",
      "text/plain": [
       "<Figure size 432x288 with 1 Axes>"
      ]
     },
     "metadata": {
      "needs_background": "light"
     },
     "output_type": "display_data"
    }
   ],
   "source": [
    "plot_window_dfts(windows, names)\n",
    "decorate(xlabel='Frequency (Hz)')"
   ]
  },
  {
   "cell_type": "markdown",
   "metadata": {},
   "source": [
    "Here's the same plot on a log-y scale."
   ]
  },
  {
   "cell_type": "code",
   "execution_count": 14,
   "metadata": {
    "collapsed": false,
    "jupyter": {
     "outputs_hidden": false
    }
   },
   "outputs": [
    {
     "data": {
      "image/png": "[encoded data removed]",
      "text/plain": [
       "<Figure size 432x288 with 1 Axes>"
      ]
     },
     "metadata": {
      "needs_background": "light"
     },
     "output_type": "display_data"
    }
   ],
   "source": [
    "plot_window_dfts(windows, names)\n",
    "decorate(xlabel='Frequency (Hz)', yscale='log')"
   ]
  },
  {
   "cell_type": "markdown",
   "metadata": {},
   "source": [
    "On a log scale we can see that the Hamming and Hanning drop off faster than the other two at first.  And the Hamming and Gaussian windows seem to have the most persistent sidelobes.  The Hanning window might have the best combination of fast drop off and minimal sidelobes."
   ]
  },
  {
   "cell_type": "code",
   "execution_count": null,
   "metadata": {
    "collapsed": true,
    "jupyter": {
     "outputs_hidden": true
    }
   },
   "outputs": [],
   "source": []
  }
 ],
 "metadata": {
  "kernelspec": {
   "display_name": "Python 3",
   "language": "python",
   "name": "python3"
  },
  "language_info": {
   "codemirror_mode": {
    "name": "ipython",
    "version": 3
   },
   "file_extension": ".py",
   "mimetype": "text/x-python",
   "name": "python",
   "nbconvert_exporter": "python",
   "pygments_lexer": "ipython3",
   "version": "3.11.4"
  }
 },
 "nbformat": 4,
 "nbformat_minor": 4
}
